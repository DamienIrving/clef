{
 "cells": [
  {
   "cell_type": "markdown",
   "metadata": {},
   "source": [
    "****Using CleF - Climate Finder to discover ESGF data at NCI****"
   ]
  },
  {
   "cell_type": "markdown",
   "metadata": {},
   "source": [
    "This notebook shows examples of how to use the CleF (Climate Finder) python module to search for ESGF data on the NCI server.\n",
    "Currently the tool is set up for CMIP5 and CMIP6 data, but other ESGF dataset like CORDEX will be available in the future. \n",
    "\n",
    "CleF is installed in the conda module analysis3. This is managed by the CMS and is available simply by running\n",
    "    module use /g/data3/hh5/public/modules\n",
    "    module load conda/analysis3  \n",
    "    \n",
    "You could use the module interactively, for the moment we will use its command line options.\n",
    "Let's start!"
   ]
  },
  {
   "cell_type": "markdown",
   "metadata": {},
   "source": [
    "***Checking the usage***"
   ]
  },
  {
   "cell_type": "code",
   "execution_count": 15,
   "metadata": {},
   "outputs": [
    {
     "name": "stdout",
     "output_type": "stream",
     "text": [
      "Usage: clef [OPTIONS] COMMAND [ARGS]...\r\n",
      "\r\n",
      "Options:\r\n",
      "  --remote   returns only ESGF search results\r\n",
      "  --local    returns only local files matching ESGF search\r\n",
      "  --missing  returns only missing files matching ESGF search\r\n",
      "  --request  send NCI request to download missing files matching ESGF search\r\n",
      "  --help     Show this message and exit.\r\n",
      "\r\n",
      "Commands:\r\n",
      "  cmip5  Search local database for files matching the...\r\n",
      "  cmip6  Search local database for files matching the...\r\n"
     ]
    }
   ],
   "source": [
    "! ~/.local/bin/clef"
   ]
  },
  {
   "cell_type": "markdown",
   "metadata": {},
   "source": [
    "By simpling running the command *clef* with no arguments, the tool shows the help message and then exits, basically it is equivalent to *clef --help* . \n",
    "We can see currently there are sub-commands, one for each available dataset: *cmip5* and *cmip6*.  \n",
    "There are also five different options that can be passed before the sub-commands, one we have already seen is *help*. The others are used to modify how the output of the search. \n",
    "Lets start from searching some CMIP5 data, to see what we can pass to the *cmip5* sub-command we can simply run it with its *--help* option."
   ]
  },
  {
   "cell_type": "markdown",
   "metadata": {},
   "source": [
    "***CMIP5***"
   ]
  },
  {
   "cell_type": "code",
   "execution_count": 4,
   "metadata": {
    "scrolled": true
   },
   "outputs": [
    {
     "name": "stdout",
     "output_type": "stream",
     "text": [
      "Usage: clef cmip5 [OPTIONS] [QUERY]...\r\n",
      "\r\n",
      "  Search local database for files matching the given constraints\r\n",
      "\r\n",
      "  Constraints can be specified multiple times, in which case they are\r\n",
      "  combined    using OR: -v tas -v tasmin will return anything matching\r\n",
      "  variable = 'tas' or variable = 'tasmin'. The --latest flag will check ESGF\r\n",
      "  for the latest version available, this is the default behaviour\r\n",
      "\r\n",
      "Options:\r\n",
      "  -e, --experiment TEXT           CMIP5 experiment: piControl, rcp85, amip ...\r\n",
      "  --experiment_family TEXT        CMIP5 experiment family: Decadal, RCP ...\r\n",
      "  -m, --model x                   CMIP5 model acronym: ACCESS1.3, MIROC5 ...\r\n",
      "  -t, --table, --mip [Amon|Omon|OImon|LImon|Lmon|6hrPlev|6hrLev|3hr|Oclim|Oyr|aero|cfOff|cfSites|cfMon|cfDay|cf3hr|day|fx|grids]\r\n",
      "  -v, --variable x                Variable name as shown in filanames: tas,\r\n",
      "                                  pr, sic ...\r\n",
      "  -en, --ensemble, --member TEXT  CMIP5 ensemble member: r#i#p#\r\n",
      "  --frequency [mon|day|3hr|6hr|fx|yr|monClim|subhr]\r\n",
      "  --realm [atmos|ocean|land|landIce|seaIce|aerosol|atmosChem|ocnBgchem]\r\n",
      "  --institution TEXT              Modelling group institution id: MIROC, IPSL,\r\n",
      "                                  MRI ...\r\n",
      "  --cf_standard_name TEXT         CF variable standard_name, use instead of\r\n",
      "                                  variable constraint\r\n",
      "  --format [file|dataset]         Return dataset/directory (default) or\r\n",
      "                                  individual files\r\n",
      "  -a, --all-versions              All versions, disabled by default\r\n",
      "  --latest                        Latest version only, this is the default\r\n",
      "                                  behaviour\r\n",
      "  --replica TEXT                  Search also replicas, by default searches\r\n",
      "                                  only official versions\r\n",
      "  --no-distrib                    Search only one ESGF node instead of default\r\n",
      "                                  distributed search\r\n",
      "  --debug                         Show debug log\r\n",
      "  --help                          Show this message and exit.\r\n"
     ]
    }
   ],
   "source": [
    "! ~/.local/bin/clef cmip5 --help"
   ]
  },
  {
   "cell_type": "markdown",
   "metadata": {},
   "source": [
    "**Passing arguments and options**"
   ]
  },
  {
   "cell_type": "markdown",
   "metadata": {},
   "source": [
    "The *help* shows all the constraints we can pass to the tool, there are also some additional options which can change the way we run our search. For the moment we can ignore these and use their default values. Some of the constraints can be passed using an abbreviation,like *-v* instead of *--variable*. This is handy once you are more familiar with the tool. The same option can have more than one name, for example *--ensemble* can also be passed as *--member*, this is because the terminology has changed between cmip5 and cmip6. You can pass how many constraints you want and pass the same constraint more than once. Let s see what happens though if we do not pass any constraint."
   ]
  },
  {
   "cell_type": "code",
   "execution_count": 18,
   "metadata": {},
   "outputs": [
    {
     "name": "stdout",
     "output_type": "stream",
     "text": [
      "ERROR: Too many results (3733770), try limiting your search https://esgf-node.llnl.gov/search/cmip5?distrib=True&replica=False&project=CMIP5\r\n"
     ]
    }
   ],
   "source": [
    "! ~/.local/bin/clef cmip5"
   ]
  },
  {
   "cell_type": "code",
   "execution_count": 7,
   "metadata": {},
   "outputs": [
    {
     "name": "stdout",
     "output_type": "stream",
     "text": [
      "ERROR: No matches found on ESGF, check at https://esgf-node.llnl.gov/search/cmip5?query=&distrib=True&replica=False&project=CMIP5&ensemble=r2i1p1&experiment=historicals&cmor_table=day&variable=tasmin\r\n"
     ]
    }
   ],
   "source": [
    "! ~/.local/bin/clef cmip5 --variable tasmin --experiment historicals --table day --ensemble r2i1p1"
   ]
  },
  {
   "cell_type": "markdown",
   "metadata": {},
   "source": [
    "Oops that wasn't reasonable! I mispelled the experiment \"historicals\" does not exists and the tool is telling me it cannot find any matches."
   ]
  },
  {
   "cell_type": "code",
   "execution_count": 8,
   "metadata": {},
   "outputs": [
    {
     "name": "stdout",
     "output_type": "stream",
     "text": [
      "Usage: clef cmip5 [OPTIONS] [QUERY]...\r\n",
      "\r\n",
      "Error: Invalid value for \"--table\" / \"--mip\" / \"-t\": invalid choice: days. (choose from Amon, Omon, OImon, LImon, Lmon, 6hrPlev, 6hrLev, 3hr, Oclim, Oyr, aero, cfOff, cfSites, cfMon, cfDay, cf3hr, day, fx, grids)\r\n"
     ]
    }
   ],
   "source": [
    "! ~/.local/bin/clef cmip5 --variable tasmin --experiment historical --table days --ensemble r2i1p1"
   ]
  },
  {
   "cell_type": "markdown",
   "metadata": {},
   "source": [
    "Made another spelling mistake, in this case the tool knows that I passed a wrong value and lists for me all the available options for the CMOR table. Eventually we are aiming to validate all the arguments we can, although for some it is no possible to pass all the possible values (ensemble for example)."
   ]
  },
  {
   "cell_type": "code",
   "execution_count": 9,
   "metadata": {
    "scrolled": true
   },
   "outputs": [
    {
     "name": "stdout",
     "output_type": "stream",
     "text": [
      "/g/data1b/al33/replicas/CMIP5/combined/CNRM-CERFACS/CNRM-CM5/historical/day/atmos/day/r2i1p1/v20120703/tasmin/\n",
      "/g/data1b/al33/replicas/CMIP5/combined/IPSL/IPSL-CM5A-LR/historical/day/atmos/day/r2i1p1/v20130506/tasmin/\n",
      "/g/data1b/al33/replicas/CMIP5/combined/IPSL/IPSL-CM5A-MR/historical/day/atmos/day/r2i1p1/v20130506/tasmin/\n",
      "/g/data1b/al33/replicas/CMIP5/combined/MIROC/MIROC4h/historical/day/atmos/day/r2i1p1/v20120628/tasmin/\n",
      "/g/data1b/al33/replicas/CMIP5/combined/MIROC/MIROC5/historical/day/atmos/day/r2i1p1/v20120710/tasmin/\n",
      "/g/data1b/al33/replicas/CMIP5/combined/MOHC/HadCM3/historical/day/atmos/day/r2i1p1/v20140110/tasmin/\n",
      "/g/data1b/al33/replicas/CMIP5/combined/MOHC/HadGEM2-CC/historical/day/atmos/day/r2i1p1/v20111129/tasmin/\n",
      "/g/data1b/al33/replicas/CMIP5/combined/MOHC/HadGEM2-ES/historical/day/atmos/day/r2i1p1/v20110418/tasmin/\n",
      "/g/data1b/al33/replicas/CMIP5/combined/MPI-M/MPI-ESM-LR/historical/day/atmos/day/r2i1p1/v20111006/tasmin/\n",
      "/g/data1b/al33/replicas/CMIP5/combined/MPI-M/MPI-ESM-MR/historical/day/atmos/day/r2i1p1/v20120503/tasmin/\n",
      "/g/data1b/al33/replicas/CMIP5/combined/MPI-M/MPI-ESM-P/historical/day/atmos/day/r2i1p1/v20120315/tasmin/\n",
      "/g/data1b/al33/replicas/CMIP5/combined/MRI/MRI-CGCM3/historical/day/atmos/day/r2i1p1/v20120701/tasmin/\n",
      "/g/data1b/al33/replicas/CMIP5/combined/NCC/NorESM1-M/historical/day/atmos/day/r2i1p1/v20110901/tasmin/\n",
      "/g/data1b/al33/replicas/CMIP5/combined/NOAA-GFDL/GFDL-CM3/historical/day/atmos/day/r2i1p1/v20120227/tasmin/\n",
      "/g/data1/rr3/publications/CMIP5/output1/CSIRO-BOM/ACCESS1-0/historical/day/atmos/day/r2i1p1/v20130726/tasmin/\n",
      "/g/data1/rr3/publications/CMIP5/output1/CSIRO-BOM/ACCESS1-3/historical/day/atmos/day/r2i1p1/v20121112/tasmin/\n",
      "/g/data1/rr3/publications/CMIP5/output1/CSIRO-QCCCE/CSIRO-Mk3-6-0/historical/day/atmos/day/r2i1p1/v20110518/tasmin/\n",
      "\n",
      "The following datasets are not yet available in the database, but they have been requested or recently downloaded\n",
      "cmip5.output1.CNRM-CERFACS.CNRM-CM5.historical.day.atmos.day.r2i1p1.v20120703   status: 'queued'\n",
      "cmip5.output1.IPSL.IPSL-CM5A-MR.historical.day.atmos.day.r2i1p1.v20130506   status: 'done'\n",
      "cmip5.output1.MIROC.MIROC4h.historical.day.atmos.day.r2i1p1.v20120628   status: 'done'\n",
      "cmip5.output1.MIROC.MIROC5.historical.day.atmos.day.r2i1p1.v20120710   status: 'done'\n",
      "cmip5.output1.MIROC.MIROC-ESM.historical.day.atmos.day.r2i1p1.v20120710   status: 'done'\n",
      "cmip5.output1.MOHC.HadCM3.historical.day.atmos.day.r2i1p1.v20140110   status: 'queued'\n",
      "cmip5.output1.MRI.MRI-CGCM3.historical.day.atmos.day.r2i1p1.v20120701   status: 'done'\n",
      "cmip5.output1.NCC.NorESM1-M.historical.day.atmos.day.r2i1p1.v20110901   status: 'done'\n",
      "cmip5.output1.NOAA-GFDL.GFDL-CM3.historical.day.atmos.day.r2i1p1.v20120227   status: 'done'\n",
      "\n",
      "Available on ESGF but not locally:\n",
      "cmip5.output1.MOHC.HadCM3.historical.day.atmos.day.r2i1p1.v20110728\n",
      "cmip5.output.CCCma.CanCM4.historical.day.atmos.r2i1p1.v20130331\n",
      "cmip5.output.CCCma.CanESM2.historical.day.atmos.r2i1p1.v20130331\n"
     ]
    }
   ],
   "source": [
    "! ~/.local/bin/clef cmip5 --variable tasmin --experiment historical --table day --ensemble r2i1p1"
   ]
  },
  {
   "cell_type": "markdown",
   "metadata": {},
   "source": [
    "The tool first search on the ESGF for all the files that match the constraints we passed. It then looks for these file locally and if it finds them it returns their path on raijin.\n",
    "For all the files it can't find locally, the tool check an NCI table listing the downloads they are working on. Finally it lists missing datasets which are in the download queue, followed by the datasets that are not available locally and no one has yet requested.\n",
    "\n",
    "The tool list the datasets paths and datset_ids, if you want you can get a more detailed list by file by passing *--format file* .\n",
    "\n",
    "The search by default returns the latest available version. What if we want to have a look at all the available versions?"
   ]
  },
  {
   "cell_type": "code",
   "execution_count": 5,
   "metadata": {
    "scrolled": true
   },
   "outputs": [
    {
     "name": "stdout",
     "output_type": "stream",
     "text": [
      "/g/data1/rr3/publications/CMIP5/output1/CSIRO-BOM/ACCESS1-0/historical/mon/atmos/Amon/r1i1p1/v20120115/tasmin/\r\n",
      "/g/data1/rr3/publications/CMIP5/output1/CSIRO-BOM/ACCESS1-0/historical/mon/atmos/Amon/r1i1p1/v20120727/tasmin/\r\n",
      "/g/data1/rr3/publications/CMIP5/output1/CSIRO-BOM/ACCESS1-0/historical/mon/atmos/Amon/r2i1p1/v20130726/tasmin/\r\n",
      "/g/data1/rr3/publications/CMIP5/output1/CSIRO-BOM/ACCESS1-0/historical/mon/atmos/Amon/r3i1p1/v20140402/tasmin/\r\n",
      "\r\n",
      "Everything available on ESGF is also available locally\r\n"
     ]
    }
   ],
   "source": [
    "! ~/.local/bin/clef cmip5 --variable tasmin --experiment historical --table Amon -m ACCESS1.0 --all-versions"
   ]
  },
  {
   "cell_type": "markdown",
   "metadata": {},
   "source": [
    "The option --all-versions is the reverse of --latest, which is also the default, so we get a list of all available versions. <br>\n",
    "Since all the ACCESS1.0 data is available on NCI (which is the authoritative source for the ACCESS models) the tool doesn't find any missing datasets and let us know about it."
   ]
  },
  {
   "cell_type": "markdown",
   "metadata": {},
   "source": [
    "***CMIP6***"
   ]
  },
  {
   "cell_type": "code",
   "execution_count": 2,
   "metadata": {
    "scrolled": true
   },
   "outputs": [
    {
     "name": "stdout",
     "output_type": "stream",
     "text": [
      "Usage: clef cmip6 [OPTIONS] [QUERY]...\r\n",
      "\r\n",
      "  Search local database for files matching the given constraints\r\n",
      "\r\n",
      "  Constraints can be specified multiple times, in which case they are\r\n",
      "  combined    using OR: -v tas -v tasmin will return anything matching\r\n",
      "  variable = 'tas' or variable = 'tasmin'. The --latest flag will check ESGF\r\n",
      "  for the latest version available, this is the default behaviour\r\n",
      "\r\n",
      "Options:\r\n",
      "  -mip, --activity [AerChemMIP|C4MIP|CDRMIP|CFMIP|CMIP|CORDEX|DAMIP|DCPP|DynVarMIP|FAFMIP|GMMIP|GeoMIP|HighResMIP|ISMIP6|LS3MIP|LUMIP|OMIP|PAMIP|PMIP|RFMIP|SIMIP|ScenarioMIP|VIACSAB|VolMIP]\r\n",
      "  -e, --experiment TEXT           CMIP6 experiment, list of available depends\r\n",
      "                                  on activity\r\n",
      "  --source_type [AER|AGCM|AOGCM|BGC|CHEM|ISM|LAND|OGCM|RAD|SLAB]\r\n",
      "  -t, --table x                   CMIP6 CMOR table: Amon, SIday, Oday ...\r\n",
      "  -m, --model, --source_id x      CMIP6 model id: GFDL-AM4, CNRM-CM6-1 ...\r\n",
      "  -v, --variable x                CMIP6 variable name as in filenames\r\n",
      "  -mi, --member TEXT              CMIP6 member id: <sub-exp-id>-r#i#p#f#\r\n",
      "  -g, --grid, --grid_label TEXT   CMIP6 grid label: i.e. gn for the model\r\n",
      "                                  native grid\r\n",
      "  -nr, --resolution, --nominal_resolution TEXT\r\n",
      "                                  Approximate resolution: '250 km', pass in\r\n",
      "                                  quotes\r\n",
      "  --frequency [1hr|1hrCM|1hrPt|3hr|3hrPt|6hr|6hrPt|day|dec|fx|mon|monC|monPt|subhrPt|yr|yrPt]\r\n",
      "  --realm [atmos|ocean|land|landIce|seaIce|aerosol|atmosChem|ocnBgchem]\r\n",
      "  -se, --sub_experiment_id TEXT   Only available for hindcast and forecast\r\n",
      "                                  experiments: sYYYY\r\n",
      "  -vl, --variant_label TEXT       Indicates a model variant: r#i#p#f#\r\n",
      "  --institution TEXT              Modelling group institution id: IPSL, NOAA-\r\n",
      "                                  GFDL ...\r\n",
      "  --cf_standard_name TEXT         CF variable standard_name, use instead of\r\n",
      "                                  variable constraint\r\n",
      "  --format [file|dataset]         Return dataset/directory (default) or\r\n",
      "                                  individual files\r\n",
      "  -a, --all-versions              All versions, disabled by default\r\n",
      "  --latest                        Latest version only, this is the default\r\n",
      "                                  behaviour\r\n",
      "  --replica TEXT                  Search also replicas, by default searches\r\n",
      "                                  only official versions\r\n",
      "  --no-distrib                    Search only one ESGF node instead of default\r\n",
      "                                  distributed search\r\n",
      "  --debug                         Show debug log\r\n",
      "  --help                          Show this message and exit.\r\n"
     ]
    }
   ],
   "source": [
    "! ~/.local/bin/clef cmip6 --help"
   ]
  },
  {
   "cell_type": "markdown",
   "metadata": {},
   "source": [
    "The **cmip6** sub-command works in the same way but some constraints are different. As well as changes in terminology CMIP6 has more attributes (*facets*) that can be used to search. <br>\n",
    "Examples of these are the *activity* which groups experiments, *resolution* which is an approximation of the actual resolution and *grid*."
   ]
  },
  {
   "cell_type": "markdown",
   "metadata": {},
   "source": [
    "***Controlling the ouput: clef options***"
   ]
  },
  {
   "cell_type": "code",
   "execution_count": 11,
   "metadata": {
    "scrolled": true
   },
   "outputs": [
    {
     "name": "stdout",
     "output_type": "stream",
     "text": [
      "/g/data1b/oi10/replicas/CMIP6/CMIP/CNRM-CERFACS/CNRM-CM6-1/1pctCO2/r1i1p1f2/Amon/tasmax/gr/v20180626/\r\n",
      "/g/data1b/oi10/replicas/CMIP6/CMIP/CNRM-CERFACS/CNRM-CM6-1/1pctCO2/r1i1p1f2/Amon/tasmin/gr/v20180626/\r\n",
      "/g/data1b/oi10/replicas/CMIP6/CMIP/IPSL/IPSL-CM6A-LR/1pctCO2/r1i1p1f1/Amon/tasmax/gr/v20180727/\r\n",
      "/g/data1b/oi10/replicas/CMIP6/CMIP/IPSL/IPSL-CM6A-LR/1pctCO2/r1i1p1f1/Amon/tasmin/gr/v20180727/\r\n"
     ]
    }
   ],
   "source": [
    "! ~/.local/bin/clef --local cmip6 -e 1pctCO2 -t Amon -v tasmax -v tasmin -g gr"
   ]
  },
  {
   "cell_type": "markdown",
   "metadata": {},
   "source": [
    "In this example we used the *--local* option for the main command **clef** to get only the local matching data path as output. <br> \n",
    "Note also that:\n",
    "- we are using abbreviations for the options where available; \n",
    "- we are passing the variable *-v* option twice; \n",
    "- we used the CMIP6 specific option *-g/--grid* to search for all data that is not on the model native grid. This doesn't indicate a grid common to all the CMIP6 output only to the model itself, the same is true for member_id and other attributes."
   ]
  },
  {
   "cell_type": "code",
   "execution_count": 13,
   "metadata": {
    "scrolled": false
   },
   "outputs": [
    {
     "name": "stdout",
     "output_type": "stream",
     "text": [
      "\r\n",
      "Available on ESGF but not locally:\r\n",
      "CMIP6.CMIP.CNRM-CERFACS.CNRM-CM6-1.1pctCO2.r1i1p1f2.Amon.clw.gr.v20180626\r\n",
      "CMIP6.CMIP.CNRM-CERFACS.CNRM-CM6-1.1pctCO2.r1i1p1f2.Amon.clwvi.gr.v20180626\r\n",
      "CMIP6.CMIP.IPSL.IPSL-CM6A-LR.1pctCO2.r1i1p1f1.Amon.clw.gr.v20180727\r\n",
      "CMIP6.CMIP.IPSL.IPSL-CM6A-LR.1pctCO2.r1i1p1f1.Amon.clwvi.gr.v20180727\r\n"
     ]
    }
   ],
   "source": [
    "! ~/.local/bin/clef --missing cmip6 -e 1pctCO2 -v clw -v clwvi -t Amon -g gr"
   ]
  },
  {
   "cell_type": "markdown",
   "metadata": {},
   "source": [
    "This time we used the *--missing* option and the tool returned only the results matching the constraints that are available on the ESGF but not locally (we changed variables to make sure to get some missing data back)."
   ]
  },
  {
   "cell_type": "code",
   "execution_count": 14,
   "metadata": {
    "scrolled": true
   },
   "outputs": [
    {
     "name": "stdout",
     "output_type": "stream",
     "text": [
      "CMIP6.CMIP.CNRM-CERFACS.CNRM-CM6-1.1pctCO2.r1i1p1f2.Amon.tasmax.gr.v20180626\r\n",
      "CMIP6.CMIP.IPSL.IPSL-CM6A-LR.1pctCO2.r1i1p1f1.Amon.tasmax.gr.v20180727\r\n",
      "CMIP6.CMIP.IPSL.IPSL-CM6A-LR.1pctCO2.r1i1p1f1.Amon.tasmin.gr.v20180727\r\n",
      "CMIP6.CMIP.CNRM-CERFACS.CNRM-CM6-1.1pctCO2.r1i1p1f2.Amon.tasmin.gr.v20180626\r\n"
     ]
    }
   ],
   "source": [
    "! ~/.local/bin/clef --remote cmip6 -e 1pctCO2 -v tasmin -v tasmax -t Amon -g gr"
   ]
  },
  {
   "cell_type": "markdown",
   "metadata": {},
   "source": [
    "The *--remote* option returns the Dataset_ids of the data matching the constraints, regardless that they are available locally or not."
   ]
  },
  {
   "cell_type": "code",
   "execution_count": 16,
   "metadata": {
    "scrolled": true
   },
   "outputs": [
    {
     "name": "stdout",
     "output_type": "stream",
     "text": [
      "CMIP6.CMIP.CNRM-CERFACS.CNRM-CM6-1.1pctCO2.r1i1p1f2.Amon.tasmax.gr.v20180626.tasmax_Amon_CNRM-CM6-1_1pctCO2_r1i1p1f2_gr_185001-199912.nc\r\n",
      "CMIP6.CMIP.CNRM-CERFACS.CNRM-CM6-1.1pctCO2.r1i1p1f2.Amon.tasmin.gr.v20180626.tasmin_Amon_CNRM-CM6-1_1pctCO2_r1i1p1f2_gr_185001-199912.nc\r\n",
      "CMIP6.CMIP.IPSL.IPSL-CM6A-LR.1pctCO2.r1i1p1f1.Amon.tasmax.gr.v20180727.tasmax_Amon_IPSL-CM6A-LR_1pctCO2_r1i1p1f1_gr_185001-199912.nc\r\n",
      "CMIP6.CMIP.IPSL.IPSL-CM6A-LR.1pctCO2.r1i1p1f1.Amon.tasmin.gr.v20180727.tasmin_Amon_IPSL-CM6A-LR_1pctCO2_r1i1p1f1_gr_185001-199912.nc\r\n"
     ]
    }
   ],
   "source": [
    "! ~/.local/bin/clef --remote cmip6 -e 1pctCO2 -v tasmin -v tasmax -t Amon -g gr --format file"
   ]
  },
  {
   "cell_type": "markdown",
   "metadata": {},
   "source": [
    "Running the same command with the option *--format file* after the sub-command, will return the File_ids instead of the default Dataset_ids. Please note that *--local*, *--remote* and *--missing* together with *--request*, which we will look at next, are all options of the main command **clef** and they need to come before any sub-commands."
   ]
  },
  {
   "cell_type": "markdown",
   "metadata": {},
   "source": [
    "***Requesting new data***"
   ]
  },
  {
   "cell_type": "code",
   "execution_count": null,
   "metadata": {},
   "outputs": [],
   "source": []
  }
 ],
 "metadata": {
  "kernelspec": {
   "display_name": "Python [conda env:analysis3-18.07]",
   "language": "python",
   "name": "conda-env-analysis3-18.07-py"
  },
  "language_info": {
   "codemirror_mode": {
    "name": "ipython",
    "version": 3
   },
   "file_extension": ".py",
   "mimetype": "text/x-python",
   "name": "python",
   "nbconvert_exporter": "python",
   "pygments_lexer": "ipython3",
   "version": "3.6.6"
  }
 },
 "nbformat": 4,
 "nbformat_minor": 2
}
