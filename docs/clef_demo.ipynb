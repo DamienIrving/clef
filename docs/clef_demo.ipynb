{
 "cells": [
  {
   "cell_type": "markdown",
   "metadata": {},
   "source": [
    "# Using CleF - Climate Finder to discover ESGF data at NCI"
   ]
  },
  {
   "cell_type": "markdown",
   "metadata": {},
   "source": [
    "This notebook shows examples of how to use the CleF (Climate Finder) python module to search for ESGF data on the NCI server. <br>\n",
    "Currently the tool is set up for CMIP5 and CMIP6 data, but other ESGF dataset like CORDEX will be available in the future. <br> \n",
    "\n",
    "CleF will eventually be installed in the CMS conda module analysis3. This is managed by the CMS and is available simply by running\n",
    "  >  module use /g/data3/hh5/public/modules <br>\n",
    "  >  module load conda/analysis3\n",
    "  \n",
    "Currently the beta release is installed in a separate test-enviroment:\n",
    "  >  module use /g/data3/hh5/public/modules <br>\n",
    "  >  module load conda  <br>\n",
    "  >  source activate clef-test <br>\n",
    "  \n",
    "You could use the module interactively, for the moment we will use its command line options. <br>\n",
    "Let's start!"
   ]
  },
  {
   "cell_type": "markdown",
   "metadata": {},
   "source": [
    "## Command syntax"
   ]
  },
  {
   "cell_type": "code",
   "execution_count": 1,
   "metadata": {},
   "outputs": [
    {
     "name": "stdout",
     "output_type": "stream",
     "text": [
      "Usage: clef [OPTIONS] COMMAND [ARGS]...\r\n",
      "\r\n",
      "Options:\r\n",
      "  --remote   returns only ESGF search results\r\n",
      "  --local    returns only local files matching ESGF search\r\n",
      "  --missing  returns only missing files matching ESGF search\r\n",
      "  --request  send NCI request to download missing files matching ESGF search\r\n",
      "  --help     Show this message and exit.\r\n",
      "\r\n",
      "Commands:\r\n",
      "  cmip5  Search local database for files matching the...\r\n",
      "  cmip6  Search local database for files matching the...\r\n"
     ]
    }
   ],
   "source": [
    "! clef"
   ]
  },
  {
   "cell_type": "markdown",
   "metadata": {},
   "source": [
    "By simpling running the command **clef** with no arguments, the tool shows the help message and then exits, basically it is equivalent to \n",
    "> clef --help <br>\n",
    "\n",
    "We can see currently there are sub-commands, one for each available dataset: **cmip5** and **cmip6**.  <br>\n",
    "There are also five different options that can be passed before the sub-commands, one we have already seen is *--help*. The others are used to modify how the tool will deal with the main query output. We will have a look at them later. <br>\n",
    "Lets start from searching some CMIP5 data, to see what we can pass to the **cmip5** sub-command we can simply run it with its *--help* option."
   ]
  },
  {
   "cell_type": "markdown",
   "metadata": {},
   "source": [
    "## CMIP5"
   ]
  },
  {
   "cell_type": "code",
   "execution_count": 2,
   "metadata": {
    "scrolled": true
   },
   "outputs": [
    {
     "name": "stdout",
     "output_type": "stream",
     "text": [
      "Usage: clef cmip5 [OPTIONS] [QUERY]...\r\n",
      "\r\n",
      "  Search local database for files matching the given constraints\r\n",
      "\r\n",
      "  Constraints can be specified multiple times, in which case they are\r\n",
      "  combined    using OR: -v tas -v tasmin will return anything matching\r\n",
      "  variable = 'tas' or variable = 'tasmin'. The --latest flag will check ESGF\r\n",
      "  for the latest version available, this is the default behaviour\r\n",
      "\r\n",
      "Options:\r\n",
      "  -e, --experiment TEXT           CMIP5 experiment: piControl, rcp85, amip ...\r\n",
      "  --experiment_family TEXT        CMIP5 experiment family: Decadal, RCP ...\r\n",
      "  -m, --model x                   CMIP5 model acronym: ACCESS1.3, MIROC5 ...\r\n",
      "  -t, --table, --mip [Amon|Omon|OImon|LImon|Lmon|6hrPlev|6hrLev|3hr|Oclim|Oyr|aero|cfOff|cfSites|cfMon|cfDay|cf3hr|day|fx|grids]\r\n",
      "  -v, --variable x                Variable name as shown in filanames: tas,\r\n",
      "                                  pr, sic ...\r\n",
      "  -en, --ensemble, --member TEXT  CMIP5 ensemble member: r#i#p#\r\n",
      "  --frequency [mon|day|3hr|6hr|fx|yr|monClim|subhr]\r\n",
      "  --realm [atmos|ocean|land|landIce|seaIce|aerosol|atmosChem|ocnBgchem]\r\n",
      "  --institution TEXT              Modelling group institution id: MIROC, IPSL,\r\n",
      "                                  MRI ...\r\n",
      "  --cf_standard_name TEXT         CF variable standard_name, use instead of\r\n",
      "                                  variable constraint\r\n",
      "  --format [file|dataset]         Return output for datasets (default) or\r\n",
      "                                  individual files\r\n",
      "  --latest / --all-versions       Return only the latest version or all of\r\n",
      "                                  them. Default: --latest\r\n",
      "  --replica / --no-replica        Return both original files and replicas.\r\n",
      "                                  Default: --no-replica\r\n",
      "  --distrib / --no-distrib        Distribute search across all ESGF nodes.\r\n",
      "                                  Default: --distrib\r\n",
      "  --debug / --no-debug            Show debug output. Default: --no-debug\r\n",
      "  --help                          Show this message and exit.\r\n"
     ]
    }
   ],
   "source": [
    "! clef cmip5 --help"
   ]
  },
  {
   "cell_type": "markdown",
   "metadata": {},
   "source": [
    "### Passing arguments and options"
   ]
  },
  {
   "cell_type": "markdown",
   "metadata": {},
   "source": [
    "The *help* shows all the constraints we can pass to the tool, there are also some additional options which can change the way we run our search. For the moment we can ignore these and use their default values. <br>\n",
    "Some of the constraints can be passed using an abbreviation,like *-v* instead of *--variable*. This is handy once you are more familiar with the tool. <br>\n",
    "The same option can have more than one name, for example *--ensemble* can also be passed as *--member*, this is because the terminology has changed between CMIP5 and CMIP6. <br>\n",
    "You can pass how many constraints you want and pass the same constraint more than once. Let's see what happens though if we do not pass any constraint."
   ]
  },
  {
   "cell_type": "code",
   "execution_count": 3,
   "metadata": {},
   "outputs": [
    {
     "name": "stdout",
     "output_type": "stream",
     "text": [
      "Traceback (most recent call last):\r\n",
      "  File \"/g/data3/hh5/public/apps/miniconda3/envs/clef-test/bin/clef\", line 11, in <module>\r\n",
      "    sys.exit(clef())\r\n",
      "  File \"/g/data3/hh5/public/apps/miniconda3/envs/clef-test/lib/python3.7/site-packages/click/core.py\", line 722, in __call__\r\n",
      "    return self.main(*args, **kwargs)\r\n",
      "  File \"/g/data3/hh5/public/apps/miniconda3/envs/clef-test/lib/python3.7/site-packages/click/core.py\", line 697, in main\r\n",
      "    rv = self.invoke(ctx)\r\n",
      "  File \"/g/data3/hh5/public/apps/miniconda3/envs/clef-test/lib/python3.7/site-packages/click/core.py\", line 1066, in invoke\r\n",
      "    return _process_result(sub_ctx.command.invoke(sub_ctx))\r\n",
      "  File \"/g/data3/hh5/public/apps/miniconda3/envs/clef-test/lib/python3.7/site-packages/click/core.py\", line 895, in invoke\r\n",
      "    return ctx.invoke(self.callback, **ctx.params)\r\n",
      "  File \"/g/data3/hh5/public/apps/miniconda3/envs/clef-test/lib/python3.7/site-packages/click/core.py\", line 535, in invoke\r\n",
      "    return callback(*args, **kwargs)\r\n",
      "  File \"/g/data3/hh5/public/apps/miniconda3/envs/clef-test/lib/python3.7/site-packages/click/decorators.py\", line 17, in new_func\r\n",
      "    return f(get_current_context(), *args, **kwargs)\r\n",
      "  File \"/g/data3/hh5/public/apps/miniconda3/envs/clef-test/lib/python3.7/site-packages/clef/cli.py\", line 277, in cmip5\r\n",
      "    **terms\r\n",
      "  File \"/g/data3/hh5/public/apps/miniconda3/envs/clef-test/lib/python3.7/site-packages/clef/esgf.py\", line 222, in match_query\r\n",
      "    values = find_checksum_id(query, latest=latest, **kwargs)\r\n",
      "  File \"/g/data3/hh5/public/apps/miniconda3/envs/clef-test/lib/python3.7/site-packages/clef/esgf.py\", line 164, in find_checksum_id\r\n",
      "    raise ESGFException('Too many results (%d), try limiting your search %s'%(response['response']['numFound'], link_to_esgf(query, **constraints)))\r\n",
      "clef.esgf.ESGFException: Too many results (3613617), try limiting your search https://https//esgf-data.dkrz.de/esg-search/search/cmip5?query=&distrib=True&replica=False&latest=True&project=CMIP5\r\n"
     ]
    }
   ],
   "source": [
    "! clef cmip5"
   ]
  },
  {
   "cell_type": "code",
   "execution_count": 4,
   "metadata": {},
   "outputs": [
    {
     "name": "stdout",
     "output_type": "stream",
     "text": [
      "Traceback (most recent call last):\n",
      "  File \"/g/data3/hh5/public/apps/miniconda3/envs/clef-test/bin/clef\", line 11, in <module>\n",
      "    sys.exit(clef())\n",
      "  File \"/g/data3/hh5/public/apps/miniconda3/envs/clef-test/lib/python3.7/site-packages/click/core.py\", line 722, in __call__\n",
      "    return self.main(*args, **kwargs)\n",
      "  File \"/g/data3/hh5/public/apps/miniconda3/envs/clef-test/lib/python3.7/site-packages/click/core.py\", line 697, in main\n",
      "    rv = self.invoke(ctx)\n",
      "  File \"/g/data3/hh5/public/apps/miniconda3/envs/clef-test/lib/python3.7/site-packages/click/core.py\", line 1066, in invoke\n",
      "    return _process_result(sub_ctx.command.invoke(sub_ctx))\n",
      "  File \"/g/data3/hh5/public/apps/miniconda3/envs/clef-test/lib/python3.7/site-packages/click/core.py\", line 895, in invoke\n",
      "    return ctx.invoke(self.callback, **ctx.params)\n",
      "  File \"/g/data3/hh5/public/apps/miniconda3/envs/clef-test/lib/python3.7/site-packages/click/core.py\", line 535, in invoke\n",
      "    return callback(*args, **kwargs)\n",
      "  File \"/g/data3/hh5/public/apps/miniconda3/envs/clef-test/lib/python3.7/site-packages/click/decorators.py\", line 17, in new_func\n",
      "    return f(get_current_context(), *args, **kwargs)\n",
      "  File \"/g/data3/hh5/public/apps/miniconda3/envs/clef-test/lib/python3.7/site-packages/clef/cli.py\", line 277, in cmip5\n",
      "    **terms\n",
      "  File \"/g/data3/hh5/public/apps/miniconda3/envs/clef-test/lib/python3.7/site-packages/clef/esgf.py\", line 222, in match_query\n",
      "    values = find_checksum_id(query, latest=latest, **kwargs)\n",
      "  File \"/g/data3/hh5/public/apps/miniconda3/envs/clef-test/lib/python3.7/site-packages/clef/esgf.py\", line 161, in find_checksum_id\n",
      "    raise ESGFException('No matches found on ESGF, check at %s'%link_to_esgf(query, **constraints))\n",
      "clef.esgf.ESGFException: No matches found on ESGF, check at https://https//esgf-data.dkrz.de/esg-search/search/cmip5?query=&distrib=True&replica=False&latest=True&project=CMIP5&ensemble=r2i1p1&experiment=historicals&cmor_table=day&variable=tasmin\n"
     ]
    }
   ],
   "source": [
    "! clef cmip5 --variable tasmin --experiment historicals --table day --ensemble r2i1p1"
   ]
  },
  {
   "cell_type": "markdown",
   "metadata": {},
   "source": [
    "Oops that wasn't reasonable! I mispelled the experiment \"historicals\" does not exists and the tool is telling me it cannot find any matches."
   ]
  },
  {
   "cell_type": "code",
   "execution_count": 5,
   "metadata": {},
   "outputs": [
    {
     "name": "stdout",
     "output_type": "stream",
     "text": [
      "Usage: clef cmip5 [OPTIONS] [QUERY]...\r\n",
      "\r\n",
      "Error: Invalid value for \"--table\" / \"--mip\" / \"-t\": invalid choice: days. (choose from Amon, Omon, OImon, LImon, Lmon, 6hrPlev, 6hrLev, 3hr, Oclim, Oyr, aero, cfOff, cfSites, cfMon, cfDay, cf3hr, day, fx, grids)\r\n"
     ]
    }
   ],
   "source": [
    "! clef cmip5 --variable tasmin --experiment historical --table days --ensemble r2i1p1"
   ]
  },
  {
   "cell_type": "markdown",
   "metadata": {},
   "source": [
    "Made another spelling mistake, in this case the tool knows that I passed a wrong value and lists for me all the available options for the CMOR table. Eventually we are aiming to validate all the arguments we can, although for some it is no possible to pass all the possible values (ensemble for example)."
   ]
  },
  {
   "cell_type": "code",
   "execution_count": 6,
   "metadata": {
    "scrolled": false
   },
   "outputs": [
    {
     "name": "stdout",
     "output_type": "stream",
     "text": [
      "/g/data1b/al33/replicas/CMIP5/output1/MRI/MRI-CGCM3/historical/day/atmos/day/r2i1p1/v20120701/tasmin/\n",
      "/g/data1b/al33/replicas/CMIP5/output1/NOAA-GFDL/GFDL-CM3/historical/day/atmos/day/r2i1p1/v20120227/tasmin/\n",
      "\n",
      "The following datasets are not yet available in the database, but they have been requested or recently downloaded\n",
      "cmip5.output1.CNRM-CERFACS.CNRM-CM5.historical.day.atmos.day.r2i1p1.v20120703   status: 'queued'\n",
      "cmip5.output1.IPSL.IPSL-CM5A-LR.historical.day.atmos.day.r2i1p1.v20130506   status: 'done'\n",
      "cmip5.output1.IPSL.IPSL-CM5A-MR.historical.day.atmos.day.r2i1p1.v20130506   status: 'done'\n",
      "cmip5.output1.MIROC.MIROC4h.historical.day.atmos.day.r2i1p1.v20120628   status: 'done'\n",
      "cmip5.output1.MIROC.MIROC5.historical.day.atmos.day.r2i1p1.v20120710   status: 'done'\n",
      "cmip5.output1.MIROC.MIROC-ESM.historical.day.atmos.day.r2i1p1.v20120710   status: 'done'\n",
      "cmip5.output1.MOHC.HadCM3.historical.day.atmos.day.r2i1p1.v20140110   status: 'queued'\n",
      "cmip5.output1.MOHC.HadGEM2-CC.historical.day.atmos.day.r2i1p1.v20111129   status: 'done'\n",
      "cmip5.output1.MOHC.HadGEM2-ES.historical.day.atmos.day.r2i1p1.v20110418   status: 'queued'\n",
      "cmip5.output1.MPI-M.MPI-ESM-LR.historical.day.atmos.day.r2i1p1.v20111006   status: 'done'\n",
      "cmip5.output1.MPI-M.MPI-ESM-MR.historical.day.atmos.day.r2i1p1.v20120503   status: 'done'\n",
      "cmip5.output1.MPI-M.MPI-ESM-P.historical.day.atmos.day.r2i1p1.v20120315   status: 'done'\n",
      "cmip5.output1.MRI.MRI-CGCM3.historical.day.atmos.day.r2i1p1.v20120701   status: 'done'\n",
      "cmip5.output1.NCC.NorESM1-M.historical.day.atmos.day.r2i1p1.v20110901   status: 'done'\n",
      "cmip5.output1.NOAA-GFDL.GFDL-CM3.historical.day.atmos.day.r2i1p1.v20120227   status: 'done'\n",
      "\n",
      "Available on ESGF but not locally:\n",
      "cmip5.output1.CSIRO-QCCCE.CSIRO-Mk3-6-0.historical.day.atmos.day.r2i1p1.v20110518\n",
      "cmip5.output.CCCma.CanCM4.historical.day.atmos.r2i1p1.v20130331\n",
      "cmip5.output.CCCma.CanESM2.historical.day.atmos.r2i1p1.v20130331\n"
     ]
    }
   ],
   "source": [
    "! clef cmip5 --variable tasmin --experiment historical --table day --ensemble r2i1p1"
   ]
  },
  {
   "cell_type": "markdown",
   "metadata": {},
   "source": [
    "The tool first search on the ESGF for all the files that match the constraints we passed. It then looks for these file locally and if it finds them it returns their path on raijin.\n",
    "For all the files it can't find locally, the tool check an NCI table listing the downloads they are working on. Finally it lists missing datasets which are in the download queue, followed by the datasets that are not available locally and no one has yet requested. <br>\n",
    "\n",
    "The tool list the datasets paths and dataset_ids, if you want you can get a more detailed list by file by passing the *--format file* option. <br>\n",
    "\n",
    "The search by default returns the latest available version. What if we want to have a look at all the available versions?"
   ]
  },
  {
   "cell_type": "code",
   "execution_count": 8,
   "metadata": {
    "scrolled": true
   },
   "outputs": [
    {
     "name": "stdout",
     "output_type": "stream",
     "text": [
      "/g/data1/rr3/publications/CMIP5/output1/CSIRO-BOM/ACCESS1-0/historical/mon/atmos/Amon/r1i1p1/v20120115/cl/\r\n",
      "/g/data1/rr3/publications/CMIP5/output1/CSIRO-BOM/ACCESS1-0/historical/mon/atmos/Amon/r1i1p1/v20120115/cli/\r\n",
      "/g/data1/rr3/publications/CMIP5/output1/CSIRO-BOM/ACCESS1-0/historical/mon/atmos/Amon/r1i1p1/v20120115/clivi/\r\n",
      "/g/data1/rr3/publications/CMIP5/output1/CSIRO-BOM/ACCESS1-0/historical/mon/atmos/Amon/r1i1p1/v20120115/clt/\r\n",
      "/g/data1/rr3/publications/CMIP5/output1/CSIRO-BOM/ACCESS1-0/historical/mon/atmos/Amon/r1i1p1/v20120115/clw/\r\n",
      "/g/data1/rr3/publications/CMIP5/output1/CSIRO-BOM/ACCESS1-0/historical/mon/atmos/Amon/r1i1p1/v20120115/clwvi/\r\n",
      "/g/data1/rr3/publications/CMIP5/output1/CSIRO-BOM/ACCESS1-0/historical/mon/atmos/Amon/r1i1p1/v20120115/evspsbl/\r\n",
      "/g/data1/rr3/publications/CMIP5/output1/CSIRO-BOM/ACCESS1-0/historical/mon/atmos/Amon/r1i1p1/v20120115/hfls/\r\n",
      "/g/data1/rr3/publications/CMIP5/output1/CSIRO-BOM/ACCESS1-0/historical/mon/atmos/Amon/r1i1p1/v20120115/hfss/\r\n",
      "/g/data1/rr3/publications/CMIP5/output1/CSIRO-BOM/ACCESS1-0/historical/mon/atmos/Amon/r1i1p1/v20120115/hur/\r\n",
      "/g/data1/rr3/publications/CMIP5/output1/CSIRO-BOM/ACCESS1-0/historical/mon/atmos/Amon/r1i1p1/v20120115/hurs/\r\n",
      "/g/data1/rr3/publications/CMIP5/output1/CSIRO-BOM/ACCESS1-0/historical/mon/atmos/Amon/r1i1p1/v20120115/hus/\r\n",
      "/g/data1/rr3/publications/CMIP5/output1/CSIRO-BOM/ACCESS1-0/historical/mon/atmos/Amon/r1i1p1/v20120115/huss/\r\n",
      "/g/data1/rr3/publications/CMIP5/output1/CSIRO-BOM/ACCESS1-0/historical/mon/atmos/Amon/r1i1p1/v20120115/pr/\r\n",
      "/g/data1/rr3/publications/CMIP5/output1/CSIRO-BOM/ACCESS1-0/historical/mon/atmos/Amon/r1i1p1/v20120115/prc/\r\n",
      "/g/data1/rr3/publications/CMIP5/output1/CSIRO-BOM/ACCESS1-0/historical/mon/atmos/Amon/r1i1p1/v20120115/prsn/\r\n",
      "/g/data1/rr3/publications/CMIP5/output1/CSIRO-BOM/ACCESS1-0/historical/mon/atmos/Amon/r1i1p1/v20120115/prw/\r\n",
      "/g/data1/rr3/publications/CMIP5/output1/CSIRO-BOM/ACCESS1-0/historical/mon/atmos/Amon/r1i1p1/v20120115/ps/\r\n",
      "/g/data1/rr3/publications/CMIP5/output1/CSIRO-BOM/ACCESS1-0/historical/mon/atmos/Amon/r1i1p1/v20120115/psl/\r\n",
      "/g/data1/rr3/publications/CMIP5/output1/CSIRO-BOM/ACCESS1-0/historical/mon/atmos/Amon/r1i1p1/v20120115/rlds/\r\n",
      "/g/data1/rr3/publications/CMIP5/output1/CSIRO-BOM/ACCESS1-0/historical/mon/atmos/Amon/r1i1p1/v20120115/rldscs/\r\n",
      "/g/data1/rr3/publications/CMIP5/output1/CSIRO-BOM/ACCESS1-0/historical/mon/atmos/Amon/r1i1p1/v20120115/rlus/\r\n",
      "/g/data1/rr3/publications/CMIP5/output1/CSIRO-BOM/ACCESS1-0/historical/mon/atmos/Amon/r1i1p1/v20120115/rlut/\r\n",
      "/g/data1/rr3/publications/CMIP5/output1/CSIRO-BOM/ACCESS1-0/historical/mon/atmos/Amon/r1i1p1/v20120115/rlutcs/\r\n",
      "/g/data1/rr3/publications/CMIP5/output1/CSIRO-BOM/ACCESS1-0/historical/mon/atmos/Amon/r1i1p1/v20120115/rsds/\r\n",
      "/g/data1/rr3/publications/CMIP5/output1/CSIRO-BOM/ACCESS1-0/historical/mon/atmos/Amon/r1i1p1/v20120115/rsdscs/\r\n",
      "/g/data1/rr3/publications/CMIP5/output1/CSIRO-BOM/ACCESS1-0/historical/mon/atmos/Amon/r1i1p1/v20120115/rsdt/\r\n",
      "/g/data1/rr3/publications/CMIP5/output1/CSIRO-BOM/ACCESS1-0/historical/mon/atmos/Amon/r1i1p1/v20120115/rsus/\r\n",
      "/g/data1/rr3/publications/CMIP5/output1/CSIRO-BOM/ACCESS1-0/historical/mon/atmos/Amon/r1i1p1/v20120115/rsuscs/\r\n",
      "/g/data1/rr3/publications/CMIP5/output1/CSIRO-BOM/ACCESS1-0/historical/mon/atmos/Amon/r1i1p1/v20120115/rsut/\r\n",
      "/g/data1/rr3/publications/CMIP5/output1/CSIRO-BOM/ACCESS1-0/historical/mon/atmos/Amon/r1i1p1/v20120115/rsutcs/\r\n",
      "/g/data1/rr3/publications/CMIP5/output1/CSIRO-BOM/ACCESS1-0/historical/mon/atmos/Amon/r1i1p1/v20120115/rtmt/\r\n",
      "/g/data1/rr3/publications/CMIP5/output1/CSIRO-BOM/ACCESS1-0/historical/mon/atmos/Amon/r1i1p1/v20120115/sbl/\r\n",
      "/g/data1/rr3/publications/CMIP5/output1/CSIRO-BOM/ACCESS1-0/historical/mon/atmos/Amon/r1i1p1/v20120115/sci/\r\n",
      "/g/data1/rr3/publications/CMIP5/output1/CSIRO-BOM/ACCESS1-0/historical/mon/atmos/Amon/r1i1p1/v20120115/sfcWind/\r\n",
      "/g/data1/rr3/publications/CMIP5/output1/CSIRO-BOM/ACCESS1-0/historical/mon/atmos/Amon/r1i1p1/v20120115/ta/\r\n",
      "/g/data1/rr3/publications/CMIP5/output1/CSIRO-BOM/ACCESS1-0/historical/mon/atmos/Amon/r1i1p1/v20120115/tas/\r\n",
      "/g/data1/rr3/publications/CMIP5/output1/CSIRO-BOM/ACCESS1-0/historical/mon/atmos/Amon/r1i1p1/v20120115/tasmax/\r\n",
      "/g/data1/rr3/publications/CMIP5/output1/CSIRO-BOM/ACCESS1-0/historical/mon/atmos/Amon/r1i1p1/v20120115/tasmin/\r\n",
      "/g/data1/rr3/publications/CMIP5/output1/CSIRO-BOM/ACCESS1-0/historical/mon/atmos/Amon/r1i1p1/v20120115/tauu/\r\n",
      "/g/data1/rr3/publications/CMIP5/output1/CSIRO-BOM/ACCESS1-0/historical/mon/atmos/Amon/r1i1p1/v20120115/tauv/\r\n",
      "/g/data1/rr3/publications/CMIP5/output1/CSIRO-BOM/ACCESS1-0/historical/mon/atmos/Amon/r1i1p1/v20120115/ts/\r\n",
      "/g/data1/rr3/publications/CMIP5/output1/CSIRO-BOM/ACCESS1-0/historical/mon/atmos/Amon/r1i1p1/v20120115/ua/\r\n",
      "/g/data1/rr3/publications/CMIP5/output1/CSIRO-BOM/ACCESS1-0/historical/mon/atmos/Amon/r1i1p1/v20120115/uas/\r\n",
      "/g/data1/rr3/publications/CMIP5/output1/CSIRO-BOM/ACCESS1-0/historical/mon/atmos/Amon/r1i1p1/v20120115/va/\r\n",
      "/g/data1/rr3/publications/CMIP5/output1/CSIRO-BOM/ACCESS1-0/historical/mon/atmos/Amon/r1i1p1/v20120115/vas/\r\n",
      "/g/data1/rr3/publications/CMIP5/output1/CSIRO-BOM/ACCESS1-0/historical/mon/atmos/Amon/r1i1p1/v20120115/wap/\r\n",
      "/g/data1/rr3/publications/CMIP5/output1/CSIRO-BOM/ACCESS1-0/historical/mon/atmos/Amon/r1i1p1/v20120115/zg/\r\n",
      "/g/data1/rr3/publications/CMIP5/output1/CSIRO-BOM/ACCESS1-0/historical/mon/atmos/Amon/r1i1p1/v20120727/cl/\r\n",
      "/g/data1/rr3/publications/CMIP5/output1/CSIRO-BOM/ACCESS1-0/historical/mon/atmos/Amon/r1i1p1/v20120727/cli/\r\n",
      "/g/data1/rr3/publications/CMIP5/output1/CSIRO-BOM/ACCESS1-0/historical/mon/atmos/Amon/r1i1p1/v20120727/clivi/\r\n",
      "/g/data1/rr3/publications/CMIP5/output1/CSIRO-BOM/ACCESS1-0/historical/mon/atmos/Amon/r1i1p1/v20120727/clt/\r\n",
      "/g/data1/rr3/publications/CMIP5/output1/CSIRO-BOM/ACCESS1-0/historical/mon/atmos/Amon/r1i1p1/v20120727/clw/\r\n",
      "/g/data1/rr3/publications/CMIP5/output1/CSIRO-BOM/ACCESS1-0/historical/mon/atmos/Amon/r1i1p1/v20120727/clwvi/\r\n",
      "/g/data1/rr3/publications/CMIP5/output1/CSIRO-BOM/ACCESS1-0/historical/mon/atmos/Amon/r1i1p1/v20120727/evspsbl/\r\n",
      "/g/data1/rr3/publications/CMIP5/output1/CSIRO-BOM/ACCESS1-0/historical/mon/atmos/Amon/r1i1p1/v20120727/hfls/\r\n",
      "/g/data1/rr3/publications/CMIP5/output1/CSIRO-BOM/ACCESS1-0/historical/mon/atmos/Amon/r1i1p1/v20120727/hfss/\r\n",
      "/g/data1/rr3/publications/CMIP5/output1/CSIRO-BOM/ACCESS1-0/historical/mon/atmos/Amon/r1i1p1/v20120727/hur/\r\n",
      "/g/data1/rr3/publications/CMIP5/output1/CSIRO-BOM/ACCESS1-0/historical/mon/atmos/Amon/r1i1p1/v20120727/hurs/\r\n",
      "/g/data1/rr3/publications/CMIP5/output1/CSIRO-BOM/ACCESS1-0/historical/mon/atmos/Amon/r1i1p1/v20120727/hus/\r\n",
      "/g/data1/rr3/publications/CMIP5/output1/CSIRO-BOM/ACCESS1-0/historical/mon/atmos/Amon/r1i1p1/v20120727/huss/\r\n",
      "/g/data1/rr3/publications/CMIP5/output1/CSIRO-BOM/ACCESS1-0/historical/mon/atmos/Amon/r1i1p1/v20120727/pr/\r\n",
      "/g/data1/rr3/publications/CMIP5/output1/CSIRO-BOM/ACCESS1-0/historical/mon/atmos/Amon/r1i1p1/v20120727/prc/\r\n",
      "/g/data1/rr3/publications/CMIP5/output1/CSIRO-BOM/ACCESS1-0/historical/mon/atmos/Amon/r1i1p1/v20120727/prsn/\r\n",
      "/g/data1/rr3/publications/CMIP5/output1/CSIRO-BOM/ACCESS1-0/historical/mon/atmos/Amon/r1i1p1/v20120727/prw/\r\n",
      "/g/data1/rr3/publications/CMIP5/output1/CSIRO-BOM/ACCESS1-0/historical/mon/atmos/Amon/r1i1p1/v20120727/ps/\r\n",
      "/g/data1/rr3/publications/CMIP5/output1/CSIRO-BOM/ACCESS1-0/historical/mon/atmos/Amon/r1i1p1/v20120727/psl/\r\n",
      "/g/data1/rr3/publications/CMIP5/output1/CSIRO-BOM/ACCESS1-0/historical/mon/atmos/Amon/r1i1p1/v20120727/rlds/\r\n",
      "/g/data1/rr3/publications/CMIP5/output1/CSIRO-BOM/ACCESS1-0/historical/mon/atmos/Amon/r1i1p1/v20120727/rldscs/\r\n",
      "/g/data1/rr3/publications/CMIP5/output1/CSIRO-BOM/ACCESS1-0/historical/mon/atmos/Amon/r1i1p1/v20120727/rlus/\r\n",
      "/g/data1/rr3/publications/CMIP5/output1/CSIRO-BOM/ACCESS1-0/historical/mon/atmos/Amon/r1i1p1/v20120727/rlut/\r\n",
      "/g/data1/rr3/publications/CMIP5/output1/CSIRO-BOM/ACCESS1-0/historical/mon/atmos/Amon/r1i1p1/v20120727/rlutcs/\r\n",
      "/g/data1/rr3/publications/CMIP5/output1/CSIRO-BOM/ACCESS1-0/historical/mon/atmos/Amon/r1i1p1/v20120727/rsds/\r\n",
      "/g/data1/rr3/publications/CMIP5/output1/CSIRO-BOM/ACCESS1-0/historical/mon/atmos/Amon/r1i1p1/v20120727/rsdscs/\r\n",
      "/g/data1/rr3/publications/CMIP5/output1/CSIRO-BOM/ACCESS1-0/historical/mon/atmos/Amon/r1i1p1/v20120727/rsdt/\r\n",
      "/g/data1/rr3/publications/CMIP5/output1/CSIRO-BOM/ACCESS1-0/historical/mon/atmos/Amon/r1i1p1/v20120727/rsus/\r\n",
      "/g/data1/rr3/publications/CMIP5/output1/CSIRO-BOM/ACCESS1-0/historical/mon/atmos/Amon/r1i1p1/v20120727/rsuscs/\r\n",
      "/g/data1/rr3/publications/CMIP5/output1/CSIRO-BOM/ACCESS1-0/historical/mon/atmos/Amon/r1i1p1/v20120727/rsut/\r\n",
      "/g/data1/rr3/publications/CMIP5/output1/CSIRO-BOM/ACCESS1-0/historical/mon/atmos/Amon/r1i1p1/v20120727/rsutcs/\r\n",
      "/g/data1/rr3/publications/CMIP5/output1/CSIRO-BOM/ACCESS1-0/historical/mon/atmos/Amon/r1i1p1/v20120727/rtmt/\r\n",
      "/g/data1/rr3/publications/CMIP5/output1/CSIRO-BOM/ACCESS1-0/historical/mon/atmos/Amon/r1i1p1/v20120727/sbl/\r\n",
      "/g/data1/rr3/publications/CMIP5/output1/CSIRO-BOM/ACCESS1-0/historical/mon/atmos/Amon/r1i1p1/v20120727/sci/\r\n",
      "/g/data1/rr3/publications/CMIP5/output1/CSIRO-BOM/ACCESS1-0/historical/mon/atmos/Amon/r1i1p1/v20120727/sfcWind/\r\n",
      "/g/data1/rr3/publications/CMIP5/output1/CSIRO-BOM/ACCESS1-0/historical/mon/atmos/Amon/r1i1p1/v20120727/ta/\r\n",
      "/g/data1/rr3/publications/CMIP5/output1/CSIRO-BOM/ACCESS1-0/historical/mon/atmos/Amon/r1i1p1/v20120727/tas/\r\n",
      "/g/data1/rr3/publications/CMIP5/output1/CSIRO-BOM/ACCESS1-0/historical/mon/atmos/Amon/r1i1p1/v20120727/tasmax/\r\n",
      "/g/data1/rr3/publications/CMIP5/output1/CSIRO-BOM/ACCESS1-0/historical/mon/atmos/Amon/r1i1p1/v20120727/tasmin/\r\n",
      "/g/data1/rr3/publications/CMIP5/output1/CSIRO-BOM/ACCESS1-0/historical/mon/atmos/Amon/r1i1p1/v20120727/tauu/\r\n",
      "/g/data1/rr3/publications/CMIP5/output1/CSIRO-BOM/ACCESS1-0/historical/mon/atmos/Amon/r1i1p1/v20120727/tauv/\r\n",
      "/g/data1/rr3/publications/CMIP5/output1/CSIRO-BOM/ACCESS1-0/historical/mon/atmos/Amon/r1i1p1/v20120727/ts/\r\n",
      "/g/data1/rr3/publications/CMIP5/output1/CSIRO-BOM/ACCESS1-0/historical/mon/atmos/Amon/r1i1p1/v20120727/ua/\r\n",
      "/g/data1/rr3/publications/CMIP5/output1/CSIRO-BOM/ACCESS1-0/historical/mon/atmos/Amon/r1i1p1/v20120727/uas/\r\n",
      "/g/data1/rr3/publications/CMIP5/output1/CSIRO-BOM/ACCESS1-0/historical/mon/atmos/Amon/r1i1p1/v20120727/va/\r\n",
      "/g/data1/rr3/publications/CMIP5/output1/CSIRO-BOM/ACCESS1-0/historical/mon/atmos/Amon/r1i1p1/v20120727/vas/\r\n",
      "/g/data1/rr3/publications/CMIP5/output1/CSIRO-BOM/ACCESS1-0/historical/mon/atmos/Amon/r1i1p1/v20120727/wap/\r\n",
      "/g/data1/rr3/publications/CMIP5/output1/CSIRO-BOM/ACCESS1-0/historical/mon/atmos/Amon/r1i1p1/v20120727/zg/\r\n",
      "\r\n",
      "Everything available on ESGF is also available locally\r\n"
     ]
    }
   ],
   "source": [
    "! clef cmip5 --variable tasmin --experiment historical --table Amon -m ACCESS1.0 --all-versions"
   ]
  },
  {
   "cell_type": "markdown",
   "metadata": {},
   "source": [
    "The option *--all-versions* is the reverse of *--latest*, which is also the default, so we get a list of all available versions. <br>\n",
    "Since all the ACCESS1.0 data is available on NCI (which is the authoritative source for the ACCESS models) the tool doesn't find any missing datasets and let us know about it."
   ]
  },
  {
   "cell_type": "markdown",
   "metadata": {},
   "source": [
    "## CMIP6"
   ]
  },
  {
   "cell_type": "code",
   "execution_count": null,
   "metadata": {
    "scrolled": true
   },
   "outputs": [],
   "source": [
    "! ~/.local/bin/clef cmip6 --help"
   ]
  },
  {
   "cell_type": "markdown",
   "metadata": {},
   "source": [
    "The **cmip6** sub-command works in the same way but some constraints are different. As well as changes in terminology CMIP6 has more attributes (*facets*) that can be used to search. <br>\n",
    "Examples of these are the **activity** which groups experiments, **resolution** which is an approximation of the actual resolution and **grid**."
   ]
  },
  {
   "cell_type": "markdown",
   "metadata": {},
   "source": [
    "### Controlling the ouput: clef options"
   ]
  },
  {
   "cell_type": "code",
   "execution_count": null,
   "metadata": {
    "scrolled": true
   },
   "outputs": [],
   "source": [
    "! ~/.local/bin/clef --local cmip6 -e 1pctCO2 -t Amon -v tasmax -v tasmin -g gr"
   ]
  },
  {
   "cell_type": "markdown",
   "metadata": {},
   "source": [
    "In this example we used the *--local* option for the main command **clef** to get only the local matching data path as output. <br> \n",
    "Note also that:\n",
    "- we are using abbreviations for the options where available; \n",
    "- we are passing the variable *-v* option twice; \n",
    "- we used the CMIP6 specific option *-g/--grid* to search for all data that is not on the model native grid. This doesn't indicate a grid common to all the CMIP6 output only to the model itself, the same is true for member_id and other attributes."
   ]
  },
  {
   "cell_type": "code",
   "execution_count": null,
   "metadata": {
    "scrolled": false
   },
   "outputs": [],
   "source": [
    "! ~/.local/bin/clef --missing cmip6 -e 1pctCO2 -v clw -v clwvi -t Amon -g gr"
   ]
  },
  {
   "cell_type": "markdown",
   "metadata": {},
   "source": [
    "This time we used the *--missing* option and the tool returned only the results matching the constraints that are available on the ESGF but not locally (we changed variables to make sure to get some missing data back)."
   ]
  },
  {
   "cell_type": "code",
   "execution_count": null,
   "metadata": {
    "scrolled": true
   },
   "outputs": [],
   "source": [
    "! ~/.local/bin/clef --remote cmip6 -e 1pctCO2 -v tasmin -v tasmax -t Amon -g gr"
   ]
  },
  {
   "cell_type": "markdown",
   "metadata": {},
   "source": [
    "The *--remote* option returns the Dataset_ids of the data matching the constraints, regardless that they are available locally or not."
   ]
  },
  {
   "cell_type": "code",
   "execution_count": null,
   "metadata": {
    "scrolled": true
   },
   "outputs": [],
   "source": [
    "! ~/.local/bin/clef --remote cmip6 -e 1pctCO2 -v tasmin -v tasmax -t Amon -g gr --format file"
   ]
  },
  {
   "cell_type": "markdown",
   "metadata": {},
   "source": [
    "Running the same command with the option *--format file* after the sub-command, will return the File_ids instead of the default Dataset_ids. <br>\n",
    "Please note that *--local*, *--remote* and *--missing* together with *--request*, which we will look at next, are all options of the main command **clef** and they need to come before any sub-commands."
   ]
  },
  {
   "cell_type": "markdown",
   "metadata": {},
   "source": [
    "## Requesting new data"
   ]
  },
  {
   "cell_type": "markdown",
   "metadata": {},
   "source": [
    "What should we do if we found out there's some data we are interested into that has not been downloaded or requested yet? <br>\n",
    "This is a complex data collection, NCI, in consultation with the community, decided the best way to manage it was to have one point of reference. Part of this agreement is that NCI will download the files and update the database that **clef** is interrrogating. After consultation with the community a priority list was decided and NCI has started downloading anything that falls into it as soon as become available. <br> <br>\n",
    "Users can then request from the NCI helpdesk, other combinations of variables, experiments etc that do not fall into this list. <br>\n",
    "The list is available from the NCI climate confluence website: <br>\n",
    "Even without consulting the list you can use **clef**, as we demonstrated above, to search for the data, if it is not queued or downloaded already **clef** will give you an option to request it from NCI. <br>\n",
    "Let's see how it works."
   ]
  },
  {
   "cell_type": "code",
   "execution_count": null,
   "metadata": {
    "scrolled": false
   },
   "outputs": [],
   "source": [
    "%%bash\n",
    "~/.local/bin/clef --request cmip6 -e 1pctCO2 -v clw -v clwvi -t Amon -g gr\n",
    "no"
   ]
  },
  {
   "cell_type": "markdown",
   "metadata": {},
   "source": [
    "We run the same search which gave us as a result 4 missing datasets but this time we used the *--request* option after **clef**.<br>\n",
    "The tool will execute the search remotely, then look for matches locally and on the NCI download list. Having find none gives as an option of putting in a request. <br>\n",
    "It will accept any of the following as a positive answer:\n",
    "> Y  YES y yes <br>\n",
    "\n",
    "With anything else or if you don't pass anything it will assume you don't want to put in a request.<br>\n",
    "It still saved the request in a file we can use later.<br>"
   ]
  },
  {
   "cell_type": "code",
   "execution_count": null,
   "metadata": {},
   "outputs": [],
   "source": [
    "!cat CMIP6_*.txt"
   ]
  },
  {
   "cell_type": "markdown",
   "metadata": {},
   "source": [
    "If I answered 'yes' the tool would have sent an e-mail to the NCI helpdesk with the text file attached, NCI can pass that file as input to their download tool and queue your request."
   ]
  },
  {
   "cell_type": "code",
   "execution_count": null,
   "metadata": {},
   "outputs": [],
   "source": []
  }
 ],
 "metadata": {
  "kernelspec": {
   "display_name": "Python [conda env:analysis3-18.07]",
   "language": "python",
   "name": "conda-env-analysis3-18.07-py"
  },
  "language_info": {
   "codemirror_mode": {
    "name": "ipython",
    "version": 3
   },
   "file_extension": ".py",
   "mimetype": "text/x-python",
   "name": "python",
   "nbconvert_exporter": "python",
   "pygments_lexer": "ipython3",
   "version": "3.6.6"
  }
 },
 "nbformat": 4,
 "nbformat_minor": 2
}
